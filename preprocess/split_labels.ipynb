{
 "metadata": {
  "language_info": {
   "codemirror_mode": {
    "name": "ipython",
    "version": 3
   },
   "file_extension": ".py",
   "mimetype": "text/x-python",
   "name": "python",
   "nbconvert_exporter": "python",
   "pygments_lexer": "ipython3",
   "version": "3.8.8-final"
  },
  "orig_nbformat": 2,
  "kernelspec": {
   "name": "python3",
   "display_name": "Python 3.8.8 64-bit ('pytorch': conda)",
   "metadata": {
    "interpreter": {
     "hash": "223f16aabb92a80a29f7d8a92ed0ddbefc6aa1b8fba36ed03e30e3041e6934d4"
    }
   }
  }
 },
 "nbformat": 4,
 "nbformat_minor": 2,
 "cells": [
  {
   "cell_type": "code",
   "execution_count": 22,
   "metadata": {
    "tags": []
   },
   "outputs": [
    {
     "output_type": "stream",
     "name": "stdout",
     "text": [
      "1089\n"
     ]
    }
   ],
   "source": [
    "import os\r\n",
    "\r\n",
    "dataset = \"potsdam\"\r\n",
    "root = f\"/home/admin/segmentation/task3/data/{dataset}/train/cropped\"\r\n",
    "\r\n",
    "val_images = os.listdir(f\"{root}/images/val\")\r\n",
    "\r\n",
    "label_imgs = os.listdir(f\"{root}/labels\")\r\n",
    "\r\n",
    "# print(len(label_imgs))\r\n",
    "for image in label_imgs:\r\n",
    "    if image in val_images:\r\n",
    "        os.rename(f\"{root}/labels/{image}\",f\"{root}/labels/val/{image}\")\r\n",
    "        print(f\"success val:{image}\")\r\n",
    "    elif os.path.isfile(f\"{root}/labels/{image}\"):\r\n",
    "        os.rename(f\"{root}/labels/{image}\",f\"{root}/labels/train/{image}\")\r\n",
    "        print(f\"success train:{image}\")\r\n"
   ]
  },
  {
   "cell_type": "code",
   "execution_count": null,
   "metadata": {},
   "outputs": [],
   "source": []
  }
 ]
}